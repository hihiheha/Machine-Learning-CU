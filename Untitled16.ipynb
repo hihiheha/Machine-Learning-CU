{
 "cells": [
  {
   "cell_type": "code",
   "execution_count": 6,
   "id": "afd15e7b",
   "metadata": {},
   "outputs": [
    {
     "name": "stdout",
     "output_type": "stream",
     "text": [
      "Accuracy: 67.88%\n",
      "Classification Report:\n",
      "               precision    recall  f1-score   support\n",
      "\n",
      "         Low       0.74      0.88      0.81        92\n",
      "      Medium       0.62      0.25      0.36        91\n",
      "        High       0.64      0.90      0.75        91\n",
      "\n",
      "    accuracy                           0.68       274\n",
      "   macro avg       0.67      0.68      0.64       274\n",
      "weighted avg       0.67      0.68      0.64       274\n",
      "\n"
     ]
    }
   ],
   "source": [
    "import pandas as pd\n",
    "from sklearn.model_selection import train_test_split\n",
    "from sklearn.preprocessing import LabelEncoder, StandardScaler\n",
    "from sklearn.neural_network import MLPClassifier\n",
    "from sklearn.metrics import accuracy_score, classification_report\n",
    "\n",
    "# Load dataset\n",
    "file_path = \"/Users/eva/Downloads/World Happiness Dataset.csv\"  # Update with correct path if needed\n",
    "df = pd.read_csv(file_path)\n",
    "\n",
    "# Handle missing values by filling with median\n",
    "df.fillna(df.median(numeric_only=True), inplace=True)\n",
    "\n",
    "# Convert 'happiness_score' into categorical labels (Low: 0, Medium: 1, High: 2)\n",
    "df['happiness_label'] = pd.qcut(df['happiness_score'], q=3, labels=[0, 1, 2])\n",
    "\n",
    "# Encode categorical feature 'region'\n",
    "label_encoder = LabelEncoder()\n",
    "df['region_encoded'] = label_encoder.fit_transform(df['region'])\n",
    "\n",
    "# Selecting relevant features for classification\n",
    "features = ['gdp_per_capita', 'social_support', 'healthy_life_expectancy',\n",
    "            'freedom_to_make_life_choices', 'generosity', 'perceptions_of_corruption', 'region_encoded']\n",
    "X = df[features]\n",
    "y = df['happiness_label']\n",
    "\n",
    "# Normalize features\n",
    "scaler = StandardScaler()\n",
    "X_scaled = scaler.fit_transform(X)\n",
    "\n",
    "# Split into training and test sets (80% train, 20% test)\n",
    "X_train, X_test, y_train, y_test = train_test_split(X_scaled, y, test_size=0.2, random_state=42, stratify=y)\n",
    "\n",
    "# Define and train the MLP model with optimizations\n",
    "mlp = MLPClassifier(hidden_layer_sizes=(64, 32), activation='relu', solver='adam',\n",
    "                    max_iter=1000, random_state=42, learning_rate_init=0.001,\n",
    "                    batch_size=64, early_stopping=True)\n",
    "mlp.fit(X_train, y_train)\n",
    "\n",
    "# Make predictions\n",
    "y_pred = mlp.predict(X_test)\n",
    "\n",
    "# Evaluate the model\n",
    "accuracy = accuracy_score(y_test, y_pred)\n",
    "classification_rep = classification_report(y_test, y_pred, target_names=['Low', 'Medium', 'High'])\n",
    "\n",
    "# Print results\n",
    "print(f\"Accuracy: {accuracy * 100:.2f}%\")\n",
    "print(\"Classification Report:\\n\", classification_rep)\n"
   ]
  },
  {
   "cell_type": "code",
   "execution_count": null,
   "id": "a2d3aec0",
   "metadata": {},
   "outputs": [],
   "source": []
  }
 ],
 "metadata": {
  "kernelspec": {
   "display_name": "Python 3 (ipykernel)",
   "language": "python",
   "name": "python3"
  },
  "language_info": {
   "codemirror_mode": {
    "name": "ipython",
    "version": 3
   },
   "file_extension": ".py",
   "mimetype": "text/x-python",
   "name": "python",
   "nbconvert_exporter": "python",
   "pygments_lexer": "ipython3",
   "version": "3.9.13"
  }
 },
 "nbformat": 4,
 "nbformat_minor": 5
}
